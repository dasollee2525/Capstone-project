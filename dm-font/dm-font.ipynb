{
  "nbformat": 4,
  "nbformat_minor": 0,
  "metadata": {
    "colab": {
      "name": "Untitled0.ipynb",
      "provenance": [],
      "collapsed_sections": []
    },
    "kernelspec": {
      "name": "python3",
      "display_name": "Python 3"
    },
    "language_info": {
      "name": "python"
    },
    "accelerator": "GPU"
  },
  "cells": [
    {
      "cell_type": "code",
      "metadata": {
        "id": "N0g0_VRDCSEO"
      },
      "source": [
        "from google.colab import drive\n",
        "drive.mount('/content/drive')"
      ],
      "execution_count": null,
      "outputs": []
    },
    {
      "cell_type": "code",
      "metadata": {
        "id": "oOa828cet8Jq"
      },
      "source": [
        "!nvidia-smi"
      ],
      "execution_count": null,
      "outputs": []
    },
    {
      "cell_type": "code",
      "metadata": {
        "id": "VT5kWBNPCtaR"
      },
      "source": [
        "%cd drive/MyDrive/dmfont-master/"
      ],
      "execution_count": null,
      "outputs": []
    },
    {
      "cell_type": "code",
      "metadata": {
        "id": "ucBbFo0iDjrX"
      },
      "source": [
        "!cat requirements.txt"
      ],
      "execution_count": null,
      "outputs": []
    },
    {
      "cell_type": "code",
      "metadata": {
        "id": "Hqt8a5WpBBjq"
      },
      "source": [
        "!python -m scripts.prepare_dataset kor ndy_data/fontsdir meta/kor_split.json ndy_data/fonts-hdf5"
      ],
      "execution_count": null,
      "outputs": []
    },
    {
      "cell_type": "code",
      "metadata": {
        "id": "XtcXOkaDAT4x"
      },
      "source": [
        "!pip3 install -r requirements.txt"
      ],
      "execution_count": null,
      "outputs": []
    },
    {
      "cell_type": "code",
      "metadata": {
        "id": "relOI3N1ArwM"
      },
      "source": [
        "!pip3 install fire==0.2.1"
      ],
      "execution_count": null,
      "outputs": []
    },
    {
      "cell_type": "code",
      "metadata": {
        "id": "QUvgA_hDAyiH"
      },
      "source": [
        "!pip3 install fontTools==4.12.1"
      ],
      "execution_count": null,
      "outputs": []
    },
    {
      "cell_type": "code",
      "metadata": {
        "id": "_qJ1xLCqA7j-"
      },
      "source": [
        "!pip3 install sconf==0.2.1"
      ],
      "execution_count": null,
      "outputs": []
    },
    {
      "cell_type": "code",
      "metadata": {
        "id": "Bp6tKazBBE5y"
      },
      "source": [
        "!pip3 install tensorboardX==1.9"
      ],
      "execution_count": null,
      "outputs": []
    },
    {
      "cell_type": "code",
      "metadata": {
        "id": "w3i178UaLcre"
      },
      "source": [
        "# !python3 train.py ndy_train cfgs/ndy_kor.yaml"
      ],
      "execution_count": null,
      "outputs": []
    },
    {
      "cell_type": "code",
      "metadata": {
        "id": "fnb9_Sx_qJGR"
      },
      "source": [
        "!python evaluator.py hihi checkpoints/korean-handwriting.pth bmjua_out cfgs/bmjua2.yaml --mode user-study-save"
      ],
      "execution_count": null,
      "outputs": []
    }
  ]
}